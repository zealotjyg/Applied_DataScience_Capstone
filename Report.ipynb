{
 "cells": [
  {
   "cell_type": "markdown",
   "metadata": {},
   "source": [
    "# **Correlation between Venues in Toronto Neighborhoods and Covid-19 Transmission**"
   ]
  },
  {
   "cell_type": "markdown",
   "metadata": {},
   "source": [
    "## Introduction\n",
    "\n",
    "2020 has been a very special year due to the Covid-19 pandemic. This contagious virus can cause mild to moderate respiratory illness and recover without requiring special treatment. However, older people, and those with underlying medical problems are more likely to develop serious illness. Till December 30, 2020 there are totally 572982 Covid-19 cases and costed 15472 lives in Canada. Ontario has the second highest total cases (178831) among all provinces and Toronto has 60000 cases since the beginning of pandemic. This report is trying to answer following question:  \n",
    "#### **Is there any correlation between venues in Toronto neighborhoods and Covid-19 transmission?**"
   ]
  },
  {
   "cell_type": "markdown",
   "metadata": {},
   "source": [
    "## Data\n",
    "### Statistics of Covid-19 cases in Toronto as of Dec 22  \n",
    "Website: https://www.toronto.ca/home/covid-19/covid-19-latest-city-of-toronto-news/covid-19-status-of-cases-in-toronto/  \n",
    "Datalink: https://drive.google.com/file/d/1jzH64LvFQ-UsDibXO0MOtvjbL2CvnV3N/view  \n",
    "Second tab named “All cases and Rates by Neighbou” is used as data source.  \n",
    "#### Features:  \n",
    "**Neighbourhood ID:** Unique ID assigned to neighborhood  \n",
    "**Neighbourhood Name:** Name of neighborhood  \n",
    "**Rate per 100,000 people:** Number of Covid-19 cases for every 100,000 people in neighborhood  \n",
    "**Case Count:** Total number of cases in neighborhood  \n",
    "\n",
    "\n",
    "### GEOJSON file for neighborhoods in Toronto  \n",
    "Website: https://open.toronto.ca/dataset/neighbourhoods/  \n",
    "GEOJSON file is used to:  \n",
    "(1) Obtain coordinates for each neighborhood. Coordinates are used to obtain venues of neighborhoods from Foursquare.  \n",
    "(2) Calculate area of each neighborhood. The area of each neighborhood will define the radius passed to Foursqure venues explore API.  \n",
    "(3) Plot choropleth map of Toronto.  "
   ]
  },
  {
   "cell_type": "code",
   "execution_count": null,
   "metadata": {},
   "outputs": [],
   "source": []
  }
 ],
 "metadata": {
  "kernelspec": {
   "display_name": "Python 3",
   "language": "python",
   "name": "python3"
  },
  "language_info": {
   "codemirror_mode": {
    "name": "ipython",
    "version": 3
   },
   "file_extension": ".py",
   "mimetype": "text/x-python",
   "name": "python",
   "nbconvert_exporter": "python",
   "pygments_lexer": "ipython3",
   "version": "3.8.3"
  }
 },
 "nbformat": 4,
 "nbformat_minor": 4
}
